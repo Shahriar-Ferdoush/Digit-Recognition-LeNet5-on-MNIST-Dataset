{
 "cells": [
  {
   "cell_type": "code",
   "execution_count": 1,
   "metadata": {},
   "outputs": [],
   "source": [
    "import numpy as np\n",
    "import pandas as pd\n",
    "from matplotlib import pyplot as plt\n",
    "\n",
    "%matplotlib inline"
   ]
  },
  {
   "cell_type": "code",
   "execution_count": 2,
   "metadata": {},
   "outputs": [],
   "source": [
    "data = pd.read_csv(\"train.csv\")\n",
    "test_data = pd.read_csv(\"test.csv\")"
   ]
  },
  {
   "cell_type": "code",
   "execution_count": 3,
   "metadata": {},
   "outputs": [],
   "source": [
    "X, Y = data.drop(columns=\"label\").values, data[\"label\"].values"
   ]
  },
  {
   "cell_type": "code",
   "execution_count": 4,
   "metadata": {},
   "outputs": [],
   "source": [
    "from sklearn.preprocessing import LabelEncoder\n",
    "from sklearn.preprocessing import OneHotEncoder\n",
    "\n",
    "\n",
    "onehot_encoder = OneHotEncoder(sparse=False)\n",
    "integer_encoded = Y.reshape(len(Y), 1)\n",
    "y = onehot_encoder.fit_transform(integer_encoded)\n",
    "# print(y.shape)"
   ]
  },
  {
   "cell_type": "markdown",
   "metadata": {},
   "source": [
    "# Visualize Data"
   ]
  },
  {
   "cell_type": "code",
   "execution_count": 5,
   "metadata": {},
   "outputs": [
    {
     "name": "stdout",
     "output_type": "stream",
     "text": [
      "Y = [0. 1. 0. 0. 0. 0. 0. 0. 0. 0.]\n"
     ]
    },
    {
     "data": {
      "text/plain": [
       "<matplotlib.image.AxesImage at 0x2e0d30c4288>"
      ]
     },
     "execution_count": 5,
     "metadata": {},
     "output_type": "execute_result"
    },
    {
     "data": {
      "image/png": "[encoded data removed]",
      "text/plain": [
       "<Figure size 432x288 with 1 Axes>"
      ]
     },
     "metadata": {
      "needs_background": "light"
     },
     "output_type": "display_data"
    }
   ],
   "source": [
    "n = 0\n",
    "print(\"Y = \"+ str(y[n]))\n",
    "plt.imshow(X[n].reshape(28,28), cmap='gray')"
   ]
  },
  {
   "cell_type": "markdown",
   "metadata": {},
   "source": [
    "# Flatten Data"
   ]
  },
  {
   "cell_type": "code",
   "execution_count": 6,
   "metadata": {},
   "outputs": [
    {
     "data": {
      "text/plain": [
       "(42000, 784)"
      ]
     },
     "execution_count": 6,
     "metadata": {},
     "output_type": "execute_result"
    }
   ],
   "source": [
    "X.shape  # Already Flattened"
   ]
  },
  {
   "cell_type": "code",
   "execution_count": 7,
   "metadata": {},
   "outputs": [],
   "source": [
    "X = X.reshape(-1,28,28,1)"
   ]
  },
  {
   "cell_type": "markdown",
   "metadata": {},
   "source": [
    "# Train Test Split"
   ]
  },
  {
   "cell_type": "code",
   "execution_count": 8,
   "metadata": {},
   "outputs": [],
   "source": [
    "from sklearn.model_selection import train_test_split"
   ]
  },
  {
   "cell_type": "code",
   "execution_count": 27,
   "metadata": {},
   "outputs": [],
   "source": [
    "train_x, test_x, train_y, test_y = train_test_split(X, y, train_size = .85, random_state = 1)"
   ]
  },
  {
   "cell_type": "code",
   "execution_count": 28,
   "metadata": {},
   "outputs": [
    {
     "name": "stdout",
     "output_type": "stream",
     "text": [
      "Y = [0. 0. 0. 0. 1. 0. 0. 0. 0. 0.]\n"
     ]
    },
    {
     "data": {
      "text/plain": [
       "<matplotlib.image.AxesImage at 0x2e0a8179c48>"
      ]
     },
     "execution_count": 28,
     "metadata": {},
     "output_type": "execute_result"
    },
    {
     "data": {
      "image/png": "[encoded data removed]",
      "text/plain": [
       "<Figure size 432x288 with 1 Axes>"
      ]
     },
     "metadata": {
      "needs_background": "light"
     },
     "output_type": "display_data"
    }
   ],
   "source": [
    "n = 5\n",
    "print(\"Y = \"+ str(train_y[n]))\n",
    "plt.imshow(train_x[n].reshape(28,28), cmap='gray')"
   ]
  },
  {
   "cell_type": "code",
   "execution_count": 29,
   "metadata": {},
   "outputs": [],
   "source": [
    "from keras import layers\n",
    "# has Input, Dense, Activation, ZeroPadding2D, BatchNormalization, Flatten, Conv2D, MaxPooling2D\n",
    "from keras.models import Model"
   ]
  },
  {
   "cell_type": "code",
   "execution_count": 30,
   "metadata": {},
   "outputs": [
    {
     "name": "stdout",
     "output_type": "stream",
     "text": [
      "number of training examples = 35700\n",
      "number of test examples = 6300\n",
      "X_train shape: (35700, 28, 28, 1)\n",
      "Y_train shape: (35700, 10)\n",
      "X_test shape: (6300, 28, 28, 1)\n",
      "Y_test shape: (6300, 10)\n"
     ]
    }
   ],
   "source": [
    "print (\"number of training examples = \" + str(train_x.shape[0]))\n",
    "print (\"number of test examples = \" + str(test_x.shape[0]))\n",
    "print (\"X_train shape: \" + str(train_x.shape))\n",
    "print (\"Y_train shape: \" + str(train_y.shape))\n",
    "print (\"X_test shape: \" + str(test_x.shape))\n",
    "print (\"Y_test shape: \" + str(test_y.shape))"
   ]
  },
  {
   "cell_type": "code",
   "execution_count": 31,
   "metadata": {},
   "outputs": [],
   "source": [
    "def lenet(input_shape):\n",
    "    \"\"\"\n",
    "    Implementation of the HappyModel.\n",
    "    \n",
    "    Arguments:\n",
    "    input_shape -- shape of the images of the dataset\n",
    "        (height, width, channels) as a tuple.  \n",
    "        Note that this does not include the 'batch' as a dimension.\n",
    "        If you have a batch like 'X_train', \n",
    "        then you can provide the input_shape using\n",
    "        X_train.shape[1:]\n",
    "\n",
    "    Returns:\n",
    "    model -- a Model() instance in Keras\n",
    "    \"\"\"\n",
    "    \n",
    "    X_input = layers.Input(input_shape)\n",
    "    \n",
    "    X = layers.ZeroPadding2D((2,2))(X_input) # Intial size was (28,28) but in model (32,32)\n",
    "    X = layers.Conv2D(6, (5,5), strides = (1,1), name = \"conv1\")(X)\n",
    "    X = layers.MaxPooling2D((2,2), strides = (2,2), name = \"pool1\")(X)\n",
    "    X = layers.Conv2D(16, (5,5), strides = (1,1), name = \"conv2\")(X)\n",
    "    X = layers.MaxPooling2D((2,2), strides = (2,2), name = \"pool2\")(X)\n",
    "    \n",
    "    X = layers.Flatten()(X)\n",
    "    X = layers.Dense(120, activation='relu', name='fc1')(X)\n",
    "    X = layers.Dense(84, activation='relu', name='fc2')(X)\n",
    "    X = layers.Dense(10, activation='softmax', name='sMax')(X)\n",
    "    \n",
    "    lenet_model = Model(inputs = X_input, outputs = X, name = \"LeNet\")\n",
    "    \n",
    "    \n",
    "    return lenet_model"
   ]
  },
  {
   "cell_type": "code",
   "execution_count": 32,
   "metadata": {},
   "outputs": [],
   "source": [
    "digitRecog = lenet(train_x.shape[1:])\n",
    "digitRecog.compile(optimizer = \"adam\", loss = \"categorical_crossentropy\", metrics = [\"accuracy\"])"
   ]
  },
  {
   "cell_type": "code",
   "execution_count": 33,
   "metadata": {},
   "outputs": [
    {
     "name": "stdout",
     "output_type": "stream",
     "text": [
      "Epoch 1/10\n",
      "35700/35700 [==============================] - 7s 198us/step - loss: 1.9064 - accuracy: 0.8100\n",
      "Epoch 2/10\n",
      "35700/35700 [==============================] - 7s 187us/step - loss: 0.2953 - accuracy: 0.9298\n",
      "Epoch 3/10\n",
      "35700/35700 [==============================] - 8s 221us/step - loss: 0.1691 - accuracy: 0.9557\n",
      "Epoch 4/10\n",
      "35700/35700 [==============================] - 9s 242us/step - loss: 0.1060 - accuracy: 0.9697\n",
      "Epoch 5/10\n",
      "35700/35700 [==============================] - 9s 240us/step - loss: 0.0742 - accuracy: 0.9780\n",
      "Epoch 6/10\n",
      "35700/35700 [==============================] - 9s 249us/step - loss: 0.0530 - accuracy: 0.9835\n",
      "Epoch 7/10\n",
      "35700/35700 [==============================] - 9s 242us/step - loss: 0.0382 - accuracy: 0.9879\n",
      "Epoch 8/10\n",
      "35700/35700 [==============================] - 9s 241us/step - loss: 0.0245 - accuracy: 0.9928\n",
      "Epoch 9/10\n",
      "35700/35700 [==============================] - 9s 244us/step - loss: 0.0168 - accuracy: 0.9950\n",
      "Epoch 10/10\n",
      "35700/35700 [==============================] - 9s 241us/step - loss: 0.0111 - accuracy: 0.9967\n"
     ]
    },
    {
     "data": {
      "text/plain": [
       "<keras.callbacks.callbacks.History at 0x2e0b7fe0fc8>"
      ]
     },
     "execution_count": 33,
     "metadata": {},
     "output_type": "execute_result"
    }
   ],
   "source": [
    "digitRecog.fit(train_x, train_y, batch_size = 256, epochs = 10)"
   ]
  },
  {
   "cell_type": "markdown",
   "metadata": {},
   "source": [
    "# Evaluation"
   ]
  },
  {
   "cell_type": "code",
   "execution_count": 34,
   "metadata": {},
   "outputs": [
    {
     "name": "stdout",
     "output_type": "stream",
     "text": [
      "6300/6300 [==============================] - 1s 134us/step\n",
      "\n",
      "\n",
      "\n",
      "Loss = 0.16921482347730835\n",
      "Test Accuracy = 0.9630158543586731\n"
     ]
    }
   ],
   "source": [
    "predictions = digitRecog.evaluate(test_x, test_y)\n",
    "\n",
    "print(\"\\n\\n\")\n",
    "print(\"Loss = \" + str(predictions[0]))\n",
    "print(\"Test Accuracy = \" + str(predictions[1]))"
   ]
  },
  {
   "cell_type": "code",
   "execution_count": null,
   "metadata": {},
   "outputs": [],
   "source": []
  }
 ],
 "metadata": {
  "kernelspec": {
   "display_name": "Python 3",
   "language": "python",
   "name": "python3"
  },
  "language_info": {
   "codemirror_mode": {
    "name": "ipython",
    "version": 3
   },
   "file_extension": ".py",
   "mimetype": "text/x-python",
   "name": "python",
   "nbconvert_exporter": "python",
   "pygments_lexer": "ipython3",
   "version": "3.7.6"
  }
 },
 "nbformat": 4,
 "nbformat_minor": 4
}
